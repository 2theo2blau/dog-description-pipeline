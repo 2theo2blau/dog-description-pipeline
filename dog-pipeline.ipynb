{
 "cells": [
  {
   "cell_type": "code",
   "execution_count": 3,
   "metadata": {},
   "outputs": [],
   "source": [
    "import os\n",
    "import tensorflow as tf\n",
    "import tensorflow_hub as hub\n",
    "import numpy as np\n",
    "from PIL import Image\n",
    "\n",
    "# Suppress TensorFlow logs for cleaner output\n",
    "os.environ['TF_CPP_MIN_LOG_LEVEL'] = '2'\n",
    "\n",
    "# Define input and output directories\n",
    "INPUT_DIR = 'images/input_photos'      # Replace with your input directory path\n",
    "OUTPUT_DIR = 'images/processed_photos' # Replace with your desired output directory path\n",
    "\n",
    "# Define target resolution\n",
    "TARGET_WIDTH = 800\n",
    "TARGET_HEIGHT = 800\n",
    "TARGET_SIZE = (TARGET_WIDTH, TARGET_HEIGHT)"
   ]
  },
  {
   "cell_type": "code",
   "execution_count": null,
   "metadata": {},
   "outputs": [
    {
     "name": "stdout",
     "output_type": "stream",
     "text": [
      "Loading the TensorFlow Hub model...\n",
      "Model loaded successfully.\n"
     ]
    }
   ],
   "source": [
    "# Create output directory if it doesn't exist\n",
    "os.makedirs(OUTPUT_DIR, exist_ok=True)\n",
    "\n",
    "# Load the pre-trained object detection model from TensorFlow Hub\n",
    "print(\"Loading the TensorFlow Hub model...\")\n",
    "detector = hub.load(\"https://tfhub.dev/tensorflow/ssd_mobilenet_v2/2\").signatures['serving_default']\n",
    "print(\"Model loaded successfully.\")"
   ]
  },
  {
   "cell_type": "code",
   "execution_count": 6,
   "metadata": {},
   "outputs": [
    {
     "name": "stdout",
     "output_type": "stream",
     "text": [
      "Processing zeke4.PNG...\n",
      " - Cropped to box: (42, 153, 989, 2406)\n",
      " - Saved processed image to images/processed_photos/zeke4.PNG\n",
      "\n",
      "Processing zeke3.PNG...\n",
      " - Cropped to box: (181, 9, 1204, 1724)\n",
      " - Saved processed image to images/processed_photos/zeke3.PNG\n",
      "\n",
      "Processing zeke2.PNG...\n",
      " - Cropped to box: (293, 252, 860, 1354)\n",
      " - Saved processed image to images/processed_photos/zeke2.PNG\n",
      "\n",
      "Processing zeke1.PNG...\n",
      " - Cropped to box: (55, 43, 1022, 1709)\n",
      " - Saved processed image to images/processed_photos/zeke1.PNG\n",
      "\n",
      "Processing completed.\n"
     ]
    }
   ],
   "source": [
    "# Function to load and preprocess image\n",
    "def load_image(path):\n",
    "    img = Image.open(path).convert('RGB')\n",
    "    return img\n",
    "\n",
    "# Function to perform object detection and get the most probable box\n",
    "def get_main_subject_box(img, detector, threshold=0.5):\n",
    "    # Convert image to tensor\n",
    "    img_tensor = tf.convert_to_tensor(np.array(img))\n",
    "    img_tensor = tf.expand_dims(img_tensor, 0)  # Add batch dimension\n",
    "\n",
    "    # Run the detector\n",
    "    results = detector(img_tensor)\n",
    "\n",
    "    # Extract detection scores and boxes\n",
    "    scores = results['detection_scores'].numpy()[0]\n",
    "    boxes = results['detection_boxes'].numpy()[0]\n",
    "\n",
    "    # Filter out detections below the threshold\n",
    "    indices = np.where(scores >= threshold)[0]\n",
    "\n",
    "    if len(indices) == 0:\n",
    "        return None  # No detections above the threshold\n",
    "\n",
    "    # Select the detection with the highest score\n",
    "    top_index = indices[0]\n",
    "    top_box = boxes[top_index]  # Box coordinates are in ymin, xmin, ymax, xmax format\n",
    "\n",
    "    # Convert normalized coordinates to pixel coordinates\n",
    "    width, height = img.size\n",
    "    ymin, xmin, ymax, xmax = top_box\n",
    "    left = int(xmin * width)\n",
    "    right = int(xmax * width)\n",
    "    top = int(ymin * height)\n",
    "    bottom = int(ymax * height)\n",
    "\n",
    "    return (left, top, right, bottom)\n",
    "\n",
    "# Process each image in the input directory\n",
    "for filename in os.listdir(INPUT_DIR):\n",
    "    if filename.lower().endswith(('.png', '.jpg', '.jpeg', '.bmp', '.gif')):\n",
    "        input_path = os.path.join(INPUT_DIR, filename)\n",
    "        print(f\"Processing {filename}...\")\n",
    "\n",
    "        # Load image\n",
    "        image = load_image(input_path)\n",
    "\n",
    "        # Get the bounding box of the main subject\n",
    "        box = get_main_subject_box(image, detector)\n",
    "\n",
    "        if box:\n",
    "            # Crop the image to the bounding box\n",
    "            cropped_image = image.crop(box)\n",
    "            print(f\" - Cropped to box: {box}\")\n",
    "        else:\n",
    "            # If no subject detected, use the original image\n",
    "            cropped_image = image\n",
    "            print(\" - No subject detected. Using the original image.\")\n",
    "\n",
    "        # Resize the image to the target resolution\n",
    "        resized_image = cropped_image.resize(TARGET_SIZE, Image.Resampling.LANCZOS)\n",
    "\n",
    "        # Save the processed image\n",
    "        output_path = os.path.join(OUTPUT_DIR, filename)\n",
    "        resized_image.save(output_path)\n",
    "        print(f\" - Saved processed image to {output_path}\\n\")\n",
    "\n",
    "print(\"Processing completed.\")"
   ]
  }
 ],
 "metadata": {
  "kernelspec": {
   "display_name": "dog-description",
   "language": "python",
   "name": "python3"
  },
  "language_info": {
   "codemirror_mode": {
    "name": "ipython",
    "version": 3
   },
   "file_extension": ".py",
   "mimetype": "text/x-python",
   "name": "python",
   "nbconvert_exporter": "python",
   "pygments_lexer": "ipython3",
   "version": "3.11.11"
  }
 },
 "nbformat": 4,
 "nbformat_minor": 2
}
